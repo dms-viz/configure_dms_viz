{
 "cells": [
  {
   "cell_type": "markdown",
   "id": "51d623a6",
   "metadata": {},
   "source": [
    "# General Formatting Tool\n",
    "\n",
    "The goal of this notebook is to test different approaches to make a generalized tool for formatting the input data to the `dms-vis` tool as a JSON file. \n",
    "\n",
    "I think the approach that will dovetail best into the lab's current workflow will be to have two main functions: \n",
    "\n",
    "1. A function that takes the components and makes a single JSON file for one experiment.\n",
    "2. A function that combines JSON files into a single file with the same sitemap."
   ]
  },
  {
   "cell_type": "code",
   "execution_count": 55,
   "id": "f4fdceaf",
   "metadata": {},
   "outputs": [],
   "source": [
    "import pandas as pd\n",
    "import json"
   ]
  },
  {
   "cell_type": "code",
   "execution_count": 101,
   "id": "20897ac5",
   "metadata": {},
   "outputs": [],
   "source": [
    "def format_input_json(mut_metric_df,\n",
    "                      metric_col, \n",
    "                      sitemap_df,\n",
    "                      mut_effect_df=None,\n",
    "                      filter_cols=None,\n",
    "                      structure=None,\n",
    "                      included_chains=\"polymer\",\n",
    "                      excluded_chains=\"none\",\n",
    "                      alphabet=\"RKHDEQNSTYWFAILMVGPC-*\",\n",
    "                      colors=['#0072B2', '#CC79A7', '#4C3549', '#009E73']\n",
    "                     ):\n",
    "    \"\"\"\n",
    "    Take site-level and mutation-level measurements and format into \n",
    "    a JSON file for interactive visualization with `dms-viz`. \n",
    "    \n",
    "    Prameters\n",
    "    ---------\n",
    "    mut_metric_df: pandas.DataFrame\n",
    "        A dataframe containig site- and mutation-level data for visualization. \n",
    "    metric_col: str\n",
    "        The name of the column the contains the metric for visualization.\n",
    "    sitemap_df: pandas.DataFrame\n",
    "        A dataframe mapping data sites to reference sites to protein sites. \n",
    "    structure: str or None \n",
    "        An RCSB PDB ID (i.e. 6UDJ) if not using a custom strucutre.\n",
    "    included_chains: str or None\n",
    "        If not mapping data to every chain, a space separated list of chain names (i.e. \"C F M G J P\").\n",
    "    excluded_chains: str or None\n",
    "        A space separated string of chains that should not be shown on the protein structure (i.e. \"B L R\").\n",
    "    mut_effect_df: pandas.dataFrame or None\n",
    "        A dataframe of functional effects to join to the main dataframe by mutation. \n",
    "    filter_cols: list or None\n",
    "        A list of column names to designate as filters in the visualization. \n",
    "    alphabet: str\n",
    "        The amino acid labels in the order the should be displayed on the heatmap. \n",
    "    colors: list\n",
    "        A list of colors that will be used for each epitope in the experiment.\n",
    "    \"\"\"\n",
    "    \n",
    "    # Check that there are reference sites in the mutation data\n",
    "    if not mut_metric_df.columns.isin(['site', 'reference_site']).any():\n",
    "        raise ValueError(\"The mutation dataframe is missing either the site or reference_site column.\")\n",
    "        \n",
    "    # Check that required columns are present in the mutation data\n",
    "    missing_mutation_columns = {'epitope', 'site', 'wildtype', 'mutant', 'mutation', metric_col} - set(mut_metric_df.columns)\n",
    "    if missing_mutation_columns:\n",
    "        raise ValueError(f\"The following columns do not exist in the mutation metric data: {list(missing_mutation_columns)}\")\n",
    "\n",
    "    # Check that required columns are present in the sitemap data\n",
    "    missing_sitemap_columns = {'sequential_site', 'reference_site'} - set(sitemap_df.columns)\n",
    "    if missing_sitemap_columns:\n",
    "        raise ValueError(f\"The following columns do not exist in the sitemap: {list(missing_sitemap_columns)}\")\n",
    "        \n",
    "    # If the protein site isn't specified, assume that it's the same as the reference site\n",
    "    if 'protein_site' not in sitemap_df.columns: \n",
    "        sitemap_df['protein_site'] = sitemap_df['reference_site'].apply(lambda y: y if y.isnumeric() else \"\")\n",
    "    else:\n",
    "        # Make sure that the provided column has no invalid values\n",
    "        if not sitemap_df['protein_site'].apply(lambda y: y == \"\" or y.isnumeric()).all():\n",
    "            raise ValueError(\"The protein_site column of the sitemap contains invalid values.\")\n",
    "        \n",
    "    # Add the included chains to the sitemap data if there are any\n",
    "    sitemap_df['chains'] = sitemap_df['protein_site'].apply(lambda y: included_chains if y.isnumeric() else \"\")\n",
    "\n",
    "    # Get a list of the epitopes and map these to the colors \n",
    "    epitopes = list(set(mut_metric_df.epitope))\n",
    "    if len(epitopes) > len(colors):\n",
    "        raise ValueError(f\"There are {len(epitopes)} epitopes, but only {len(colors)} color(s) specified. Please specify more colors.\")\n",
    "    epitope_colors = { epitope: colors[i] for i, epitope in enumerate(epitopes) }\n",
    "    \n",
    "    # Join optional columns to the mutation metric data\n",
    "    if mut_effect_df is not None:\n",
    "        # Check that the necessary columns are present\n",
    "        missing_effect_columns = {'wildtype', 'reference_site', 'mutant', 'effect'} - set(mut_effect_df.columns)\n",
    "        if missing_effect_columns:\n",
    "            raise ValueError(f\"The following columns do not exist in the functional data: {list(missing_effect_columns)}\")\n",
    "        # Join to the main metric data \n",
    "        mut_effect_df['mutation'] = mut_effect_df.apply(lambda row: row.wildtype + row.reference_site + row.mutant, axis=1)\n",
    "        mut_metric_df = pd.merge(mut_metric_df, mut_effect_df[['mutation', 'effect']].drop_duplicates(), on='mutation')\n",
    "        mut_metric_df = mut_metric_df.rename(columns={\"effect\": \"func_effect\"})\n",
    "    \n",
    "    # If there are columns to filter by, make sure that these are present in the data and numeric\n",
    "    if filter_cols:\n",
    "        missing_filter_columns = set(filter_cols) - set(mut_metric_df.columns)\n",
    "        if missing_filter_columns: \n",
    "            raise ValueError(f\"The filter column(s): {missing_filter_columns} are not present in the data.\")\n",
    "    \n",
    "    # Make a dictionary holding the experiment data \n",
    "    experiment_dict = {\n",
    "        'mut_escape_df': json.loads(mut_metric_df.to_json(orient='records')),\n",
    "        'sitemap': sitemap_df.set_index('reference_site').to_dict(orient='index'),\n",
    "        'alphabet': [aa for aa in alphabet],\n",
    "        'pdb': structure,\n",
    "        'dataChains': included_chains.split(\" \"),\n",
    "        'excludeChains': excluded_chains.split(\" \"),\n",
    "        'epitopes': epitopes,\n",
    "        'epitope_colors': epitope_colors,\n",
    "        'filter_cols': filter_cols\n",
    "    }\n",
    "    \n",
    "    return experiment_dict"
   ]
  },
  {
   "cell_type": "markdown",
   "id": "863b18cc",
   "metadata": {},
   "source": [
    "## Test the functions "
   ]
  },
  {
   "cell_type": "code",
   "execution_count": 102,
   "id": "7154edac",
   "metadata": {},
   "outputs": [
    {
     "data": {
      "text/plain": [
       "{1, 2}"
      ]
     },
     "execution_count": 102,
     "metadata": {},
     "output_type": "execute_result"
    }
   ],
   "source": [
    "# == Inputs == #\n",
    "\n",
    "# Escape dataframe\n",
    "mut_escape_df = pd.read_csv(\"data/hiv/escape/IDC508_avg.csv\")\n",
    "# Sitemap dataframe \n",
    "sitemap = pd.read_csv(\"data/hiv/site_numbering_map.csv\")\n",
    "# Functional effect dataframe\n",
    "funceffects = pd.read_csv(\"data/hiv/muteffects_observed.csv\")\n",
    "\n",
    "set(mut_escape_df.epitope)"
   ]
  },
  {
   "cell_type": "code",
   "execution_count": 108,
   "id": "12f3489b",
   "metadata": {},
   "outputs": [],
   "source": [
    "test = format_input_json(mut_escape_df,\n",
    "                  \"escape_mean\", \n",
    "                  sitemap,\n",
    "                  structure=\"6UDJ\",\n",
    "                  included_chains=\"C F M G J P\",\n",
    "                  excluded_chains=\"B L R A Q K\",\n",
    "                  mut_effect_df=funceffects,\n",
    "                  filter_cols=['times_seen', 'func_effect'],\n",
    "                  alphabet=\"RKHDEQNSTYWFAILMVGPC-*\",\n",
    "                  colors=['#0072B2', '#CC79A7', '#4C3549', '#009E73']\n",
    "                 )"
   ]
  },
  {
   "cell_type": "code",
   "execution_count": 99,
   "id": "bc545ed0",
   "metadata": {},
   "outputs": [],
   "source": [
    "selection_dict = {\"testing\": test}"
   ]
  },
  {
   "cell_type": "code",
   "execution_count": 100,
   "id": "59dac33a",
   "metadata": {},
   "outputs": [],
   "source": [
    "with open(\"./test.json\", \"w\") as out:\n",
    "    json.dump(selection_dict, out, indent=4)"
   ]
  },
  {
   "cell_type": "code",
   "execution_count": null,
   "id": "451f19ed",
   "metadata": {},
   "outputs": [],
   "source": []
  }
 ],
 "metadata": {
  "kernelspec": {
   "display_name": "Python 3 (ipykernel)",
   "language": "python",
   "name": "python3"
  },
  "language_info": {
   "codemirror_mode": {
    "name": "ipython",
    "version": 3
   },
   "file_extension": ".py",
   "mimetype": "text/x-python",
   "name": "python",
   "nbconvert_exporter": "python",
   "pygments_lexer": "ipython3",
   "version": "3.9.13"
  }
 },
 "nbformat": 4,
 "nbformat_minor": 5
}
